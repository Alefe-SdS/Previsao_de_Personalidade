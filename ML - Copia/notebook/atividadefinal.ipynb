{
 "cells": [
  {
   "cell_type": "markdown",
   "id": "4d4b0de0",
   "metadata": {},
   "source": [
    "## usanco pandas\n",
    "1-[x] Escolha do dataset (tema)\n",
    "2-[x] Tratar o dataset\n",
    "    -[x] Reconhecer as variávies\n",
    "    -[x] plotar os gráficos da análise\n",
    "    -[x] Excluir ou substituir os valores nulos\n",
    "        - excluir-se quando são poucos valores\n",
    "        - subistituir-se por média, moda ou mediana dependendo do tipo de informação da coluna\n",
    "\n",
    "## usando scikit learn\n",
    "3-[x] Converter as colunas categóricas em colunas numéricas. \"Mantem o dataset original e criar um novo(df2)\" \n",
    "    Escolha uma das técnicas abaixo:\n",
    "    - Dummies\n",
    "    - One hot enconding\n",
    "4-[x] Normalizar ou padronizar os valors (dados)\n",
    "    - aplicar uma das duas técninas\n",
    "\n",
    "5-[x] Dividir o dataset em teste e treinamento\n",
    "    proporção de 70 / 30 \n",
    "6-[x] Escolher modelo ia (KNN, SVN, árvore de decisão, randon forest, regressão linear)\n",
    "7-[x] Treinar com 70%\n",
    "8-[x] Validar com 30%\n",
    "\n",
    "## usando pickle\n",
    "9-[x] Exportar com modelo treinado\n",
    "\n",
    "## usando flask ou flet\n",
    "\n",
    "10-[] Criar interface com formulário\n",
    "11-[] desenvolver o backend com o mmodelo de ia treinado em python"
   ]
  },
  {
   "cell_type": "code",
   "execution_count": null,
   "id": "0564aebd",
   "metadata": {},
   "outputs": [
    {
     "ename": "",
     "evalue": "",
     "output_type": "error",
     "traceback": [
      "\u001b[1;31mA execução de células com 'Python 3.13.3' requer o pacote ipykernel.\n",
      "\u001b[1;31m<a href='command:jupyter.createPythonEnvAndSelectController'>Crie um ambiente Python</a> com os pacotes necessários.\n",
      "\u001b[1;31mOu instale 'ipykernel' usando o comando: '\"c:/Users/Álefe Santana/AppData/Local/Microsoft/WindowsApps/python3.13.exe\" -m pip install ipykernel -U --user --force-reinstall'"
     ]
    }
   ],
   "source": [
    "pip install pandas\n"
   ]
  },
  {
   "cell_type": "code",
   "execution_count": null,
   "id": "12bb4f03",
   "metadata": {},
   "outputs": [],
   "source": [
    "import pandas as pd"
   ]
  },
  {
   "cell_type": "code",
   "execution_count": null,
   "id": "800ecb2e",
   "metadata": {},
   "outputs": [],
   "source": [
    "df = pd. read_csv(\"../dados/personality_dataset.csv\")\n",
    "\n",
    "print (df.head())"
   ]
  },
  {
   "cell_type": "code",
   "execution_count": null,
   "id": "5327ba41",
   "metadata": {},
   "outputs": [],
   "source": [
    "df.shape"
   ]
  },
  {
   "cell_type": "code",
   "execution_count": null,
   "id": "b689a27c",
   "metadata": {},
   "outputs": [],
   "source": [
    "df.info()"
   ]
  },
  {
   "cell_type": "code",
   "execution_count": null,
   "id": "813eadb9",
   "metadata": {},
   "outputs": [],
   "source": [
    "df.isnull().sum()"
   ]
  },
  {
   "cell_type": "code",
   "execution_count": null,
   "id": "db3cd218",
   "metadata": {},
   "outputs": [],
   "source": [
    "df.columns = ['Tempo_sozinho', 'Medo_de_palco', 'Participacao_evento_social',\n",
    "              'Sair_de_casa', 'Cansaco_pos_socializacao', 'Tamanho_grupo_amigos',\n",
    "              'Frequencia_posts', 'Personalidade']"
   ]
  },
  {
   "cell_type": "code",
   "execution_count": null,
   "id": "b521c85d",
   "metadata": {},
   "outputs": [],
   "source": [
    "df.isnull().sum()"
   ]
  },
  {
   "cell_type": "code",
   "execution_count": null,
   "id": "9ef6463a",
   "metadata": {},
   "outputs": [],
   "source": [
    "for col in df.columns:\n",
    "    print(f\"\\nColuna: {col}\")\n",
    "    print(df[col].unique())"
   ]
  },
  {
   "cell_type": "code",
   "execution_count": null,
   "id": "af247fc3",
   "metadata": {},
   "outputs": [],
   "source": [
    "# Mostra quantas vezes cada valor aparece\n",
    "for col in df.columns:\n",
    "    print(f\"\\nColuna: {col}\")\n",
    "    print(df[col].value_counts(dropna=False))"
   ]
  },
  {
   "cell_type": "code",
   "execution_count": null,
   "id": "24dbc96d",
   "metadata": {},
   "outputs": [],
   "source": [
    "# Esse código faz o seguinte:\n",
    "# Passa por cada coluna do DataFrame;\n",
    "# Verifica se ela tem valores nulos;\n",
    "# Encontra o valor mais frequente (a moda);\n",
    "# Substitui os nulos por esse valor.\n",
    "\n",
    "for col in df.columns:\n",
    "    if df[col].isnull().sum() > 0:  # Se tiver valores nulos\n",
    "        moda = df[col].mode()[0]    # Pega o valor mais comum\n",
    "        df[col].fillna(moda, inplace=True)"
   ]
  },
  {
   "cell_type": "code",
   "execution_count": null,
   "id": "bc8330af",
   "metadata": {},
   "outputs": [],
   "source": [
    "pip install matplotlib"
   ]
  },
  {
   "cell_type": "code",
   "execution_count": null,
   "id": "ae74dbaf",
   "metadata": {},
   "outputs": [],
   "source": [
    "#Esse código faz o seguinte:\n",
    "#Pega só colunas numéricas (int, float);\n",
    "#Cria um histograma para cada uma;\n",
    "#Usa um layout bonitinho com título e rótulos.\n",
    "#Se quiser um grande painel com todos juntos (subplots), posso montar também. Quer assim?\n",
    "\n",
    "import matplotlib.pyplot as plt\n",
    "\n",
    "# Define o estilo\n",
    "plt.style.use('seaborn-v0_8-whitegrid')\n",
    "\n",
    "# Cria histogramas para todas as colunas numéricas\n",
    "for coluna in df.select_dtypes(include='number').columns:\n",
    "    plt.figure(figsize=(6, 4))\n",
    "    df[coluna].hist(bins=10, color='pink', edgecolor='black')\n",
    "    plt.title(f'Distribuição de {coluna}')\n",
    "    plt.xlabel(coluna)\n",
    "    plt.ylabel('Frequência')\n",
    "    plt.tight_layout()\n",
    "    plt.show()\n"
   ]
  },
  {
   "cell_type": "code",
   "execution_count": null,
   "id": "970fd5d5",
   "metadata": {},
   "outputs": [],
   "source": [
    "import pandas as pd\n",
    "\n",
    "# Cria uma cópia do dataset original\n",
    "df2 = df.copy()\n",
    "\n",
    "# Aplica one-hot encoding nas categóricas (exceto a de saída)\n",
    "df2 = pd.get_dummies(df, columns=['Medo_de_palco', 'Cansaco_pos_socializacao'], drop_first=True)"
   ]
  },
  {
   "cell_type": "code",
   "execution_count": null,
   "id": "f38afbc2",
   "metadata": {},
   "outputs": [],
   "source": [
    "print(df2.head())"
   ]
  },
  {
   "cell_type": "code",
   "execution_count": null,
   "id": "913a09c2",
   "metadata": {},
   "outputs": [],
   "source": [
    "print(df2.head())       # Para ver as primeiras linhas\n",
    "print(df2.dtypes)       # Para ver os tipos das colunas\n"
   ]
  },
  {
   "cell_type": "code",
   "execution_count": null,
   "id": "5202b04c",
   "metadata": {},
   "outputs": [],
   "source": [
    "for col in df2.select_dtypes(include='bool').columns:\n",
    "    df2[col] = df2[col].astype(int)\n"
   ]
  },
  {
   "cell_type": "code",
   "execution_count": null,
   "id": "79eed84a",
   "metadata": {},
   "outputs": [],
   "source": [
    "print(df2.head())\n",
    "print(df2.dtypes)\n"
   ]
  },
  {
   "cell_type": "code",
   "execution_count": null,
   "id": "04d5036d",
   "metadata": {},
   "outputs": [],
   "source": [
    "df2['Personalidade'] = df2['Personalidade'].replace({\n",
    "    'Extrovert': 'extrovertido',\n",
    "    'Introvert': 'introvertido'\n",
    "})\n"
   ]
  },
  {
   "cell_type": "code",
   "execution_count": null,
   "id": "d0b009b6",
   "metadata": {},
   "outputs": [],
   "source": [
    "print(df2['Personalidade'].unique())\n"
   ]
  },
  {
   "cell_type": "code",
   "execution_count": null,
   "id": "729a6c6a",
   "metadata": {},
   "outputs": [],
   "source": [
    "print(df2.head())\n",
    "print(df2.dtypes)\n"
   ]
  },
  {
   "cell_type": "code",
   "execution_count": null,
   "id": "6689b921",
   "metadata": {},
   "outputs": [],
   "source": [
    "\n",
    "print(df2.dtypes)\n"
   ]
  },
  {
   "cell_type": "code",
   "execution_count": null,
   "id": "015bc6f2",
   "metadata": {},
   "outputs": [],
   "source": [
    "df2.shape"
   ]
  },
  {
   "cell_type": "code",
   "execution_count": null,
   "id": "d2349c0a",
   "metadata": {},
   "outputs": [],
   "source": [
    "X = df2.drop(columns=['Personalidade'])  # Dados preditivos (features)\n",
    "y = df2['Personalidade']                 # Variável alvo\n"
   ]
  },
  {
   "cell_type": "code",
   "execution_count": null,
   "id": "48c9a3f8",
   "metadata": {},
   "outputs": [],
   "source": [
    "pip install scikit-learn\n"
   ]
  },
  {
   "cell_type": "code",
   "execution_count": null,
   "id": "ed047cbb",
   "metadata": {},
   "outputs": [],
   "source": [
    "from sklearn.model_selection import train_test_split\n",
    "\n",
    "X_train, X_test, y_train, y_test = train_test_split(X, y, test_size=0.3, random_state=42)\n"
   ]
  },
  {
   "cell_type": "code",
   "execution_count": null,
   "id": "c730b286",
   "metadata": {},
   "outputs": [],
   "source": [
    "print(\"Treino:\", X_train.shape)\n",
    "print(\"Teste: \", X_test.shape)\n"
   ]
  },
  {
   "cell_type": "code",
   "execution_count": null,
   "id": "f154efcb",
   "metadata": {},
   "outputs": [],
   "source": [
    "from sklearn.neighbors import KNeighborsClassifier"
   ]
  },
  {
   "cell_type": "code",
   "execution_count": null,
   "id": "aa7ca449",
   "metadata": {},
   "outputs": [],
   "source": [
    "modelo = KNeighborsClassifier()\n",
    "\n",
    "modelo.fit(X_train, y_train)"
   ]
  },
  {
   "cell_type": "code",
   "execution_count": null,
   "id": "d379144b",
   "metadata": {},
   "outputs": [],
   "source": [
    "resultado_teste = modelo.predict(X_test)\n"
   ]
  },
  {
   "cell_type": "code",
   "execution_count": null,
   "id": "805594dd",
   "metadata": {},
   "outputs": [],
   "source": [
    "from sklearn.metrics import accuracy_score"
   ]
  },
  {
   "cell_type": "code",
   "execution_count": null,
   "id": "cc459a5e",
   "metadata": {},
   "outputs": [],
   "source": [
    "score = accuracy_score(y_test, resultado_teste) * 2900\n",
    "\n",
    "score"
   ]
  },
  {
   "cell_type": "code",
   "execution_count": null,
   "id": "29997d06",
   "metadata": {},
   "outputs": [],
   "source": [
    "for comparacao in zip(y_test, resultado_teste):\n",
    "    print(comparacao)"
   ]
  },
  {
   "cell_type": "code",
   "execution_count": null,
   "id": "d29aa038",
   "metadata": {},
   "outputs": [],
   "source": [
    "df2 = [[8, 0, 8, 8, 0, 8, 8]]\n",
    "resposta = modelo.predict(df2)\n",
    "\n",
    "print(resposta)"
   ]
  },
  {
   "cell_type": "code",
   "execution_count": null,
   "id": "6b89c866",
   "metadata": {},
   "outputs": [],
   "source": [
    "import pickle\n",
    "\n",
    "with open('personalidade.pkl', 'wb') as df2:\n",
    "    pickle.dump(modelo,  df2 )"
   ]
  },
  {
   "cell_type": "code",
   "execution_count": null,
   "id": "27c32a48",
   "metadata": {},
   "outputs": [],
   "source": [
    "pip install flask"
   ]
  },
  {
   "cell_type": "code",
   "execution_count": null,
   "id": "67956041",
   "metadata": {},
   "outputs": [],
   "source": [
    "pip install scikit-learn"
   ]
  }
 ],
 "metadata": {
  "kernelspec": {
   "display_name": "Python 3",
   "language": "python",
   "name": "python3"
  },
  "language_info": {
   "codemirror_mode": {
    "name": "ipython",
    "version": 3
   },
   "file_extension": ".py",
   "mimetype": "text/x-python",
   "name": "python",
   "nbconvert_exporter": "python",
   "pygments_lexer": "ipython3",
   "version": "3.13.3"
  }
 },
 "nbformat": 4,
 "nbformat_minor": 5
}
